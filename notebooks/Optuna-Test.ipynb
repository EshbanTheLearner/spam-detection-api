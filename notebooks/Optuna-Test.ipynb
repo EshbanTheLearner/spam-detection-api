{
 "cells": [
  {
   "cell_type": "code",
   "execution_count": 2,
   "id": "485cf06f",
   "metadata": {},
   "outputs": [
    {
     "name": "stderr",
     "output_type": "stream",
     "text": [
      "/usr/lib/python3.6/importlib/_bootstrap.py:219: RuntimeWarning:\n",
      "\n",
      "numpy.ufunc size changed, may indicate binary incompatibility. Expected 192 from C header, got 216 from PyObject\n",
      "\n"
     ]
    }
   ],
   "source": [
    "import numpy as np\n",
    "import pandas as pd\n",
    "import optuna\n",
    "\n",
    "from sklearn.datasets import load_iris\n",
    "\n",
    "from sklearn.ensemble import RandomForestClassifier\n",
    "from sklearn.model_selection import cross_val_score\n",
    "from sklearn.svm import SVC"
   ]
  },
  {
   "cell_type": "code",
   "execution_count": 6,
   "id": "f4a30c5f",
   "metadata": {},
   "outputs": [],
   "source": [
    "def objective(trial):\n",
    "    iris = load_iris()\n",
    "    X, y = iris.data, iris.target\n",
    "    classifier_name = trial.suggest_categorical(\"classifier\", [\"SVC\", \"RandomForest\"])\n",
    "    if classifier_name == \"SVC\":\n",
    "        svc_c = trial.suggest_float(\"svc_c\", 1e-10, 1e10, log=True)\n",
    "        classifier_obj = SVC(C=svc_c, gamma=\"auto\")\n",
    "    else:\n",
    "        rf_max_depth = trial.suggest_int(\"rf_max_depth\", 2, 32, log=True)\n",
    "        classifier_obj = RandomForestClassifier(max_depth=rf_max_depth, n_estimators=10)\n",
    "        \n",
    "    score = cross_val_score(classifier_obj, X, y, n_jobs=-1, cv=3)\n",
    "    accuracy = score.mean()\n",
    "    return accuracy"
   ]
  },
  {
   "cell_type": "code",
   "execution_count": 7,
   "id": "ec3c1df9",
   "metadata": {},
   "outputs": [
    {
     "name": "stderr",
     "output_type": "stream",
     "text": [
      "\u001b[32m[I 2023-03-05 22:23:29,952]\u001b[0m A new study created in memory with name: no-name-c196fde7-94ed-4dc6-9f36-9a3015c4e732\u001b[0m\n"
     ]
    }
   ],
   "source": [
    "study = optuna.create_study(direction=\"maximize\")"
   ]
  },
  {
   "cell_type": "code",
   "execution_count": 8,
   "id": "2f380cf3",
   "metadata": {},
   "outputs": [
    {
     "name": "stderr",
     "output_type": "stream",
     "text": [
      "\u001b[32m[I 2023-03-05 22:23:34,851]\u001b[0m Trial 0 finished with value: 0.96 and parameters: {'classifier': 'SVC', 'svc_c': 113489254.23848867}. Best is trial 0 with value: 0.96.\u001b[0m\n",
      "\u001b[32m[I 2023-03-05 22:23:35,880]\u001b[0m Trial 1 finished with value: 0.32 and parameters: {'classifier': 'SVC', 'svc_c': 5.259388311021625e-09}. Best is trial 0 with value: 0.96.\u001b[0m\n",
      "\u001b[32m[I 2023-03-05 22:23:35,905]\u001b[0m Trial 2 finished with value: 0.96 and parameters: {'classifier': 'SVC', 'svc_c': 6967674.112913673}. Best is trial 0 with value: 0.96.\u001b[0m\n",
      "\u001b[32m[I 2023-03-05 22:23:35,931]\u001b[0m Trial 3 finished with value: 0.9666666666666667 and parameters: {'classifier': 'SVC', 'svc_c': 39.95003384430342}. Best is trial 3 with value: 0.9666666666666667.\u001b[0m\n",
      "\u001b[32m[I 2023-03-05 22:23:35,952]\u001b[0m Trial 4 finished with value: 0.96 and parameters: {'classifier': 'SVC', 'svc_c': 623117.4683052781}. Best is trial 3 with value: 0.9666666666666667.\u001b[0m\n",
      "\u001b[32m[I 2023-03-05 22:23:36,294]\u001b[0m Trial 5 finished with value: 0.9533333333333333 and parameters: {'classifier': 'RandomForest', 'rf_max_depth': 3}. Best is trial 3 with value: 0.9666666666666667.\u001b[0m\n",
      "\u001b[32m[I 2023-03-05 22:23:36,396]\u001b[0m Trial 6 finished with value: 0.9466666666666667 and parameters: {'classifier': 'RandomForest', 'rf_max_depth': 21}. Best is trial 3 with value: 0.9666666666666667.\u001b[0m\n",
      "\u001b[32m[I 2023-03-05 22:23:36,416]\u001b[0m Trial 7 finished with value: 0.9666666666666667 and parameters: {'classifier': 'SVC', 'svc_c': 16.458154982702055}. Best is trial 3 with value: 0.9666666666666667.\u001b[0m\n",
      "\u001b[32m[I 2023-03-05 22:23:36,471]\u001b[0m Trial 8 finished with value: 0.96 and parameters: {'classifier': 'RandomForest', 'rf_max_depth': 11}. Best is trial 3 with value: 0.9666666666666667.\u001b[0m\n",
      "\u001b[32m[I 2023-03-05 22:23:36,492]\u001b[0m Trial 9 finished with value: 0.96 and parameters: {'classifier': 'SVC', 'svc_c': 2952986.16664696}. Best is trial 3 with value: 0.9666666666666667.\u001b[0m\n",
      "\u001b[32m[I 2023-03-05 22:23:36,574]\u001b[0m Trial 10 finished with value: 0.9466666666666667 and parameters: {'classifier': 'RandomForest', 'rf_max_depth': 2}. Best is trial 3 with value: 0.9666666666666667.\u001b[0m\n",
      "\u001b[32m[I 2023-03-05 22:23:36,604]\u001b[0m Trial 11 finished with value: 0.94 and parameters: {'classifier': 'SVC', 'svc_c': 0.07061266069504726}. Best is trial 3 with value: 0.9666666666666667.\u001b[0m\n",
      "\u001b[32m[I 2023-03-05 22:23:36,634]\u001b[0m Trial 12 finished with value: 0.96 and parameters: {'classifier': 'SVC', 'svc_c': 0.20764602936094606}. Best is trial 3 with value: 0.9666666666666667.\u001b[0m\n",
      "\u001b[32m[I 2023-03-05 22:23:36,663]\u001b[0m Trial 13 finished with value: 0.98 and parameters: {'classifier': 'SVC', 'svc_c': 7.451006223380305}. Best is trial 13 with value: 0.98.\u001b[0m\n",
      "\u001b[32m[I 2023-03-05 22:23:36,692]\u001b[0m Trial 14 finished with value: 0.96 and parameters: {'classifier': 'SVC', 'svc_c': 132.12708891780483}. Best is trial 13 with value: 0.98.\u001b[0m\n",
      "\u001b[32m[I 2023-03-05 22:23:36,724]\u001b[0m Trial 15 finished with value: 0.32 and parameters: {'classifier': 'SVC', 'svc_c': 3.6416514554967565e-07}. Best is trial 13 with value: 0.98.\u001b[0m\n",
      "\u001b[32m[I 2023-03-05 22:23:36,755]\u001b[0m Trial 16 finished with value: 0.32 and parameters: {'classifier': 'SVC', 'svc_c': 0.0014451612019827952}. Best is trial 13 with value: 0.98.\u001b[0m\n",
      "\u001b[32m[I 2023-03-05 22:23:36,783]\u001b[0m Trial 17 finished with value: 0.96 and parameters: {'classifier': 'SVC', 'svc_c': 3362.4687074788003}. Best is trial 13 with value: 0.98.\u001b[0m\n",
      "\u001b[32m[I 2023-03-05 22:23:36,842]\u001b[0m Trial 18 finished with value: 0.9533333333333333 and parameters: {'classifier': 'RandomForest', 'rf_max_depth': 6}. Best is trial 13 with value: 0.98.\u001b[0m\n",
      "\u001b[32m[I 2023-03-05 22:23:36,871]\u001b[0m Trial 19 finished with value: 0.32 and parameters: {'classifier': 'SVC', 'svc_c': 9.880188033716e-05}. Best is trial 13 with value: 0.98.\u001b[0m\n",
      "\u001b[32m[I 2023-03-05 22:23:36,903]\u001b[0m Trial 20 finished with value: 0.96 and parameters: {'classifier': 'SVC', 'svc_c': 7406559551.88825}. Best is trial 13 with value: 0.98.\u001b[0m\n",
      "\u001b[32m[I 2023-03-05 22:23:36,933]\u001b[0m Trial 21 finished with value: 0.94 and parameters: {'classifier': 'SVC', 'svc_c': 248.35713092736933}. Best is trial 13 with value: 0.98.\u001b[0m\n",
      "\u001b[32m[I 2023-03-05 22:23:36,962]\u001b[0m Trial 22 finished with value: 0.98 and parameters: {'classifier': 'SVC', 'svc_c': 9.799712216316726}. Best is trial 13 with value: 0.98.\u001b[0m\n",
      "\u001b[32m[I 2023-03-05 22:23:36,993]\u001b[0m Trial 23 finished with value: 0.96 and parameters: {'classifier': 'SVC', 'svc_c': 23299.617575832457}. Best is trial 13 with value: 0.98.\u001b[0m\n",
      "\u001b[32m[I 2023-03-05 22:23:37,019]\u001b[0m Trial 24 finished with value: 0.9733333333333333 and parameters: {'classifier': 'SVC', 'svc_c': 1.1684348177380592}. Best is trial 13 with value: 0.98.\u001b[0m\n",
      "\u001b[32m[I 2023-03-05 22:23:37,053]\u001b[0m Trial 25 finished with value: 0.32 and parameters: {'classifier': 'SVC', 'svc_c': 0.004902358047630621}. Best is trial 13 with value: 0.98.\u001b[0m\n",
      "\u001b[32m[I 2023-03-05 22:23:37,127]\u001b[0m Trial 26 finished with value: 0.9666666666666667 and parameters: {'classifier': 'RandomForest', 'rf_max_depth': 28}. Best is trial 13 with value: 0.98.\u001b[0m\n",
      "\u001b[32m[I 2023-03-05 22:23:37,156]\u001b[0m Trial 27 finished with value: 0.9666666666666667 and parameters: {'classifier': 'SVC', 'svc_c': 0.6555076754801549}. Best is trial 13 with value: 0.98.\u001b[0m\n",
      "\u001b[32m[I 2023-03-05 22:23:37,188]\u001b[0m Trial 28 finished with value: 0.32 and parameters: {'classifier': 'SVC', 'svc_c': 3.794438949487205e-05}. Best is trial 13 with value: 0.98.\u001b[0m\n",
      "\u001b[32m[I 2023-03-05 22:23:37,217]\u001b[0m Trial 29 finished with value: 0.96 and parameters: {'classifier': 'SVC', 'svc_c': 2869.285304818689}. Best is trial 13 with value: 0.98.\u001b[0m\n",
      "\u001b[32m[I 2023-03-05 22:23:37,249]\u001b[0m Trial 30 finished with value: 0.9666666666666667 and parameters: {'classifier': 'SVC', 'svc_c': 2.209763999997847}. Best is trial 13 with value: 0.98.\u001b[0m\n",
      "\u001b[32m[I 2023-03-05 22:23:37,282]\u001b[0m Trial 31 finished with value: 0.9733333333333333 and parameters: {'classifier': 'SVC', 'svc_c': 3.146473030250529}. Best is trial 13 with value: 0.98.\u001b[0m\n",
      "\u001b[32m[I 2023-03-05 22:23:37,315]\u001b[0m Trial 32 finished with value: 0.7799999999999999 and parameters: {'classifier': 'SVC', 'svc_c': 0.034639012641007064}. Best is trial 13 with value: 0.98.\u001b[0m\n",
      "\u001b[32m[I 2023-03-05 22:23:37,344]\u001b[0m Trial 33 finished with value: 0.9866666666666667 and parameters: {'classifier': 'SVC', 'svc_c': 4.155232536985897}. Best is trial 33 with value: 0.9866666666666667.\u001b[0m\n",
      "\u001b[32m[I 2023-03-05 22:23:37,373]\u001b[0m Trial 34 finished with value: 0.96 and parameters: {'classifier': 'SVC', 'svc_c': 4070.600175686571}. Best is trial 33 with value: 0.9866666666666667.\u001b[0m\n",
      "\u001b[32m[I 2023-03-05 22:23:37,401]\u001b[0m Trial 35 finished with value: 0.98 and parameters: {'classifier': 'SVC', 'svc_c': 5.086509096995967}. Best is trial 33 with value: 0.9866666666666667.\u001b[0m\n",
      "\u001b[32m[I 2023-03-05 22:23:37,435]\u001b[0m Trial 36 finished with value: 0.32 and parameters: {'classifier': 'SVC', 'svc_c': 0.0002985984298464978}. Best is trial 33 with value: 0.9866666666666667.\u001b[0m\n",
      "\u001b[32m[I 2023-03-05 22:23:37,463]\u001b[0m Trial 37 finished with value: 0.96 and parameters: {'classifier': 'SVC', 'svc_c': 147219.80448133618}. Best is trial 33 with value: 0.9866666666666667.\u001b[0m\n",
      "\u001b[32m[I 2023-03-05 22:23:37,535]\u001b[0m Trial 38 finished with value: 0.9466666666666667 and parameters: {'classifier': 'RandomForest', 'rf_max_depth': 5}. Best is trial 33 with value: 0.9866666666666667.\u001b[0m\n",
      "\u001b[32m[I 2023-03-05 22:23:37,563]\u001b[0m Trial 39 finished with value: 0.9466666666666667 and parameters: {'classifier': 'SVC', 'svc_c': 288.1897975986162}. Best is trial 33 with value: 0.9866666666666667.\u001b[0m\n",
      "\u001b[32m[I 2023-03-05 22:23:37,596]\u001b[0m Trial 40 finished with value: 0.32 and parameters: {'classifier': 'SVC', 'svc_c': 1.0036676128397068e-06}. Best is trial 33 with value: 0.9866666666666667.\u001b[0m\n",
      "\u001b[32m[I 2023-03-05 22:23:37,622]\u001b[0m Trial 41 finished with value: 0.9733333333333333 and parameters: {'classifier': 'SVC', 'svc_c': 13.578610561825945}. Best is trial 33 with value: 0.9866666666666667.\u001b[0m\n",
      "\u001b[32m[I 2023-03-05 22:23:37,655]\u001b[0m Trial 42 finished with value: 0.98 and parameters: {'classifier': 'SVC', 'svc_c': 10.757173662299298}. Best is trial 33 with value: 0.9866666666666667.\u001b[0m\n",
      "\u001b[32m[I 2023-03-05 22:23:37,686]\u001b[0m Trial 43 finished with value: 0.32 and parameters: {'classifier': 'SVC', 'svc_c': 0.00864764728240299}. Best is trial 33 with value: 0.9866666666666667.\u001b[0m\n"
     ]
    },
    {
     "name": "stderr",
     "output_type": "stream",
     "text": [
      "\u001b[32m[I 2023-03-05 22:23:37,718]\u001b[0m Trial 44 finished with value: 0.96 and parameters: {'classifier': 'SVC', 'svc_c': 38.61762015826839}. Best is trial 33 with value: 0.9866666666666667.\u001b[0m\n",
      "\u001b[32m[I 2023-03-05 22:23:37,747]\u001b[0m Trial 45 finished with value: 0.96 and parameters: {'classifier': 'SVC', 'svc_c': 0.2527159558991025}. Best is trial 33 with value: 0.9866666666666667.\u001b[0m\n",
      "\u001b[32m[I 2023-03-05 22:23:37,809]\u001b[0m Trial 46 finished with value: 0.9533333333333333 and parameters: {'classifier': 'RandomForest', 'rf_max_depth': 12}. Best is trial 33 with value: 0.9866666666666667.\u001b[0m\n",
      "\u001b[32m[I 2023-03-05 22:23:37,837]\u001b[0m Trial 47 finished with value: 0.96 and parameters: {'classifier': 'SVC', 'svc_c': 624.7163720797462}. Best is trial 33 with value: 0.9866666666666667.\u001b[0m\n",
      "\u001b[32m[I 2023-03-05 22:23:37,865]\u001b[0m Trial 48 finished with value: 0.98 and parameters: {'classifier': 'SVC', 'svc_c': 11.477619437470889}. Best is trial 33 with value: 0.9866666666666667.\u001b[0m\n",
      "\u001b[32m[I 2023-03-05 22:23:37,927]\u001b[0m Trial 49 finished with value: 0.9533333333333333 and parameters: {'classifier': 'RandomForest', 'rf_max_depth': 2}. Best is trial 33 with value: 0.9866666666666667.\u001b[0m\n",
      "\u001b[32m[I 2023-03-05 22:23:37,959]\u001b[0m Trial 50 finished with value: 0.96 and parameters: {'classifier': 'SVC', 'svc_c': 36245.57111621886}. Best is trial 33 with value: 0.9866666666666667.\u001b[0m\n",
      "\u001b[32m[I 2023-03-05 22:23:37,986]\u001b[0m Trial 51 finished with value: 0.98 and parameters: {'classifier': 'SVC', 'svc_c': 10.041218039977922}. Best is trial 33 with value: 0.9866666666666667.\u001b[0m\n",
      "\u001b[32m[I 2023-03-05 22:23:38,020]\u001b[0m Trial 52 finished with value: 0.9333333333333332 and parameters: {'classifier': 'SVC', 'svc_c': 0.06530654187064734}. Best is trial 33 with value: 0.9866666666666667.\u001b[0m\n",
      "\u001b[32m[I 2023-03-05 22:23:38,048]\u001b[0m Trial 53 finished with value: 0.98 and parameters: {'classifier': 'SVC', 'svc_c': 5.529878869504726}. Best is trial 33 with value: 0.9866666666666667.\u001b[0m\n",
      "\u001b[32m[I 2023-03-05 22:23:38,078]\u001b[0m Trial 54 finished with value: 0.96 and parameters: {'classifier': 'SVC', 'svc_c': 52.55563700018457}. Best is trial 33 with value: 0.9866666666666667.\u001b[0m\n",
      "\u001b[32m[I 2023-03-05 22:23:38,110]\u001b[0m Trial 55 finished with value: 0.96 and parameters: {'classifier': 'SVC', 'svc_c': 0.2829385887035968}. Best is trial 33 with value: 0.9866666666666667.\u001b[0m\n",
      "\u001b[32m[I 2023-03-05 22:23:38,142]\u001b[0m Trial 56 finished with value: 0.9733333333333333 and parameters: {'classifier': 'SVC', 'svc_c': 2.5221324817021156}. Best is trial 33 with value: 0.9866666666666667.\u001b[0m\n",
      "\u001b[32m[I 2023-03-05 22:23:38,172]\u001b[0m Trial 57 finished with value: 0.32 and parameters: {'classifier': 'SVC', 'svc_c': 5.768974256416099e-10}. Best is trial 33 with value: 0.9866666666666667.\u001b[0m\n",
      "\u001b[32m[I 2023-03-05 22:23:38,201]\u001b[0m Trial 58 finished with value: 0.96 and parameters: {'classifier': 'SVC', 'svc_c': 776.7369756511513}. Best is trial 33 with value: 0.9866666666666667.\u001b[0m\n",
      "\u001b[32m[I 2023-03-05 22:23:38,230]\u001b[0m Trial 59 finished with value: 0.7466666666666667 and parameters: {'classifier': 'SVC', 'svc_c': 0.02457346571090484}. Best is trial 33 with value: 0.9866666666666667.\u001b[0m\n",
      "\u001b[32m[I 2023-03-05 22:23:38,291]\u001b[0m Trial 60 finished with value: 0.96 and parameters: {'classifier': 'RandomForest', 'rf_max_depth': 13}. Best is trial 33 with value: 0.9866666666666667.\u001b[0m\n",
      "\u001b[32m[I 2023-03-05 22:23:38,322]\u001b[0m Trial 61 finished with value: 0.98 and parameters: {'classifier': 'SVC', 'svc_c': 9.30759497687351}. Best is trial 33 with value: 0.9866666666666667.\u001b[0m\n",
      "\u001b[32m[I 2023-03-05 22:23:38,351]\u001b[0m Trial 62 finished with value: 0.96 and parameters: {'classifier': 'SVC', 'svc_c': 53.78054206784328}. Best is trial 33 with value: 0.9866666666666667.\u001b[0m\n",
      "\u001b[32m[I 2023-03-05 22:23:38,380]\u001b[0m Trial 63 finished with value: 0.9666666666666667 and parameters: {'classifier': 'SVC', 'svc_c': 24.859567214381418}. Best is trial 33 with value: 0.9866666666666667.\u001b[0m\n",
      "\u001b[32m[I 2023-03-05 22:23:38,410]\u001b[0m Trial 64 finished with value: 0.9666666666666667 and parameters: {'classifier': 'SVC', 'svc_c': 0.5529364294277325}. Best is trial 33 with value: 0.9866666666666667.\u001b[0m\n",
      "\u001b[32m[I 2023-03-05 22:23:38,440]\u001b[0m Trial 65 finished with value: 0.98 and parameters: {'classifier': 'SVC', 'svc_c': 5.851681272616096}. Best is trial 33 with value: 0.9866666666666667.\u001b[0m\n",
      "\u001b[32m[I 2023-03-05 22:23:38,469]\u001b[0m Trial 66 finished with value: 0.96 and parameters: {'classifier': 'SVC', 'svc_c': 153.36104847458705}. Best is trial 33 with value: 0.9866666666666667.\u001b[0m\n",
      "\u001b[32m[I 2023-03-05 22:23:38,500]\u001b[0m Trial 67 finished with value: 0.96 and parameters: {'classifier': 'SVC', 'svc_c': 2240.3238794967533}. Best is trial 33 with value: 0.9866666666666667.\u001b[0m\n",
      "\u001b[32m[I 2023-03-05 22:23:38,529]\u001b[0m Trial 68 finished with value: 0.9666666666666667 and parameters: {'classifier': 'SVC', 'svc_c': 0.8884386687748619}. Best is trial 33 with value: 0.9866666666666667.\u001b[0m\n",
      "\u001b[32m[I 2023-03-05 22:23:38,559]\u001b[0m Trial 69 finished with value: 0.9533333333333333 and parameters: {'classifier': 'SVC', 'svc_c': 0.12014259407455626}. Best is trial 33 with value: 0.9866666666666667.\u001b[0m\n",
      "\u001b[32m[I 2023-03-05 22:23:38,588]\u001b[0m Trial 70 finished with value: 0.96 and parameters: {'classifier': 'SVC', 'svc_c': 8538327.918843865}. Best is trial 33 with value: 0.9866666666666667.\u001b[0m\n",
      "\u001b[32m[I 2023-03-05 22:23:38,639]\u001b[0m Trial 71 finished with value: 0.98 and parameters: {'classifier': 'SVC', 'svc_c': 9.610483597688486}. Best is trial 33 with value: 0.9866666666666667.\u001b[0m\n",
      "\u001b[32m[I 2023-03-05 22:23:38,676]\u001b[0m Trial 72 finished with value: 0.9733333333333333 and parameters: {'classifier': 'SVC', 'svc_c': 3.401778970601157}. Best is trial 33 with value: 0.9866666666666667.\u001b[0m\n",
      "\u001b[32m[I 2023-03-05 22:23:38,706]\u001b[0m Trial 73 finished with value: 0.96 and parameters: {'classifier': 'SVC', 'svc_c': 126.52221640428716}. Best is trial 33 with value: 0.9866666666666667.\u001b[0m\n",
      "\u001b[32m[I 2023-03-05 22:23:38,735]\u001b[0m Trial 74 finished with value: 0.9666666666666667 and parameters: {'classifier': 'SVC', 'svc_c': 17.354905642134433}. Best is trial 33 with value: 0.9866666666666667.\u001b[0m\n",
      "\u001b[32m[I 2023-03-05 22:23:38,765]\u001b[0m Trial 75 finished with value: 0.32 and parameters: {'classifier': 'SVC', 'svc_c': 0.002097294264268617}. Best is trial 33 with value: 0.9866666666666667.\u001b[0m\n",
      "\u001b[32m[I 2023-03-05 22:23:38,795]\u001b[0m Trial 76 finished with value: 0.96 and parameters: {'classifier': 'SVC', 'svc_c': 805.61742807956}. Best is trial 33 with value: 0.9866666666666667.\u001b[0m\n",
      "\u001b[32m[I 2023-03-05 22:23:38,861]\u001b[0m Trial 77 finished with value: 0.94 and parameters: {'classifier': 'RandomForest', 'rf_max_depth': 4}. Best is trial 33 with value: 0.9866666666666667.\u001b[0m\n",
      "\u001b[32m[I 2023-03-05 22:23:38,889]\u001b[0m Trial 78 finished with value: 0.9866666666666667 and parameters: {'classifier': 'SVC', 'svc_c': 4.307040738473955}. Best is trial 33 with value: 0.9866666666666667.\u001b[0m\n",
      "\u001b[32m[I 2023-03-05 22:23:38,921]\u001b[0m Trial 79 finished with value: 0.9666666666666667 and parameters: {'classifier': 'SVC', 'svc_c': 0.6961815491647405}. Best is trial 33 with value: 0.9866666666666667.\u001b[0m\n",
      "\u001b[32m[I 2023-03-05 22:23:38,954]\u001b[0m Trial 80 finished with value: 0.7266666666666667 and parameters: {'classifier': 'SVC', 'svc_c': 0.020503627050902154}. Best is trial 33 with value: 0.9866666666666667.\u001b[0m\n",
      "\u001b[32m[I 2023-03-05 22:23:38,981]\u001b[0m Trial 81 finished with value: 0.9866666666666667 and parameters: {'classifier': 'SVC', 'svc_c': 4.194657959305905}. Best is trial 33 with value: 0.9866666666666667.\u001b[0m\n",
      "\u001b[32m[I 2023-03-05 22:23:39,018]\u001b[0m Trial 82 finished with value: 0.9733333333333333 and parameters: {'classifier': 'SVC', 'svc_c': 1.922030254980033}. Best is trial 33 with value: 0.9866666666666667.\u001b[0m\n",
      "\u001b[32m[I 2023-03-05 22:23:39,053]\u001b[0m Trial 83 finished with value: 0.96 and parameters: {'classifier': 'SVC', 'svc_c': 59.348845975765066}. Best is trial 33 with value: 0.9866666666666667.\u001b[0m\n",
      "\u001b[32m[I 2023-03-05 22:23:39,082]\u001b[0m Trial 84 finished with value: 0.9466666666666667 and parameters: {'classifier': 'SVC', 'svc_c': 0.11208556545608915}. Best is trial 33 with value: 0.9866666666666667.\u001b[0m\n",
      "\u001b[32m[I 2023-03-05 22:23:39,113]\u001b[0m Trial 85 finished with value: 0.98 and parameters: {'classifier': 'SVC', 'svc_c': 5.660356782498458}. Best is trial 33 with value: 0.9866666666666667.\u001b[0m\n"
     ]
    },
    {
     "name": "stderr",
     "output_type": "stream",
     "text": [
      "\u001b[32m[I 2023-03-05 22:23:39,144]\u001b[0m Trial 86 finished with value: 0.98 and parameters: {'classifier': 'SVC', 'svc_c': 6.127753951561473}. Best is trial 33 with value: 0.9866666666666667.\u001b[0m\n",
      "\u001b[32m[I 2023-03-05 22:23:39,179]\u001b[0m Trial 87 finished with value: 0.96 and parameters: {'classifier': 'SVC', 'svc_c': 10435.305719264912}. Best is trial 33 with value: 0.9866666666666667.\u001b[0m\n",
      "\u001b[32m[I 2023-03-05 22:23:39,209]\u001b[0m Trial 88 finished with value: 0.9466666666666667 and parameters: {'classifier': 'SVC', 'svc_c': 207.51496775384095}. Best is trial 33 with value: 0.9866666666666667.\u001b[0m\n",
      "\u001b[32m[I 2023-03-05 22:23:39,241]\u001b[0m Trial 89 finished with value: 0.96 and parameters: {'classifier': 'SVC', 'svc_c': 0.43309593571335586}. Best is trial 33 with value: 0.9866666666666667.\u001b[0m\n",
      "\u001b[32m[I 2023-03-05 22:23:39,301]\u001b[0m Trial 90 finished with value: 0.9666666666666667 and parameters: {'classifier': 'RandomForest', 'rf_max_depth': 8}. Best is trial 33 with value: 0.9866666666666667.\u001b[0m\n",
      "\u001b[32m[I 2023-03-05 22:23:39,334]\u001b[0m Trial 91 finished with value: 0.9666666666666667 and parameters: {'classifier': 'SVC', 'svc_c': 20.215548031944387}. Best is trial 33 with value: 0.9866666666666667.\u001b[0m\n",
      "\u001b[32m[I 2023-03-05 22:23:39,363]\u001b[0m Trial 92 finished with value: 0.98 and parameters: {'classifier': 'SVC', 'svc_c': 1.7807038309990002}. Best is trial 33 with value: 0.9866666666666667.\u001b[0m\n",
      "\u001b[32m[I 2023-03-05 22:23:39,393]\u001b[0m Trial 93 finished with value: 0.9733333333333333 and parameters: {'classifier': 'SVC', 'svc_c': 1.097631671604124}. Best is trial 33 with value: 0.9866666666666667.\u001b[0m\n",
      "\u001b[32m[I 2023-03-05 22:23:39,422]\u001b[0m Trial 94 finished with value: 0.96 and parameters: {'classifier': 'SVC', 'svc_c': 59.136225538026004}. Best is trial 33 with value: 0.9866666666666667.\u001b[0m\n",
      "\u001b[32m[I 2023-03-05 22:23:39,452]\u001b[0m Trial 95 finished with value: 0.96 and parameters: {'classifier': 'SVC', 'svc_c': 641.0743369359972}. Best is trial 33 with value: 0.9866666666666667.\u001b[0m\n",
      "\u001b[32m[I 2023-03-05 22:23:39,482]\u001b[0m Trial 96 finished with value: 0.9733333333333333 and parameters: {'classifier': 'SVC', 'svc_c': 13.441023978093488}. Best is trial 33 with value: 0.9866666666666667.\u001b[0m\n",
      "\u001b[32m[I 2023-03-05 22:23:39,512]\u001b[0m Trial 97 finished with value: 0.96 and parameters: {'classifier': 'SVC', 'svc_c': 0.20382301004852418}. Best is trial 33 with value: 0.9866666666666667.\u001b[0m\n",
      "\u001b[32m[I 2023-03-05 22:23:39,544]\u001b[0m Trial 98 finished with value: 0.9866666666666667 and parameters: {'classifier': 'SVC', 'svc_c': 4.378731046592346}. Best is trial 33 with value: 0.9866666666666667.\u001b[0m\n",
      "\u001b[32m[I 2023-03-05 22:23:39,577]\u001b[0m Trial 99 finished with value: 0.98 and parameters: {'classifier': 'SVC', 'svc_c': 9.586177506580631}. Best is trial 33 with value: 0.9866666666666667.\u001b[0m\n"
     ]
    }
   ],
   "source": [
    "study.optimize(objective, n_trials=100)"
   ]
  },
  {
   "cell_type": "code",
   "execution_count": 9,
   "id": "7073a6ea",
   "metadata": {},
   "outputs": [
    {
     "name": "stdout",
     "output_type": "stream",
     "text": [
      "FrozenTrial(number=33, values=[0.9866666666666667], datetime_start=datetime.datetime(2023, 3, 5, 22, 23, 37, 316487), datetime_complete=datetime.datetime(2023, 3, 5, 22, 23, 37, 343655), params={'classifier': 'SVC', 'svc_c': 4.155232536985897}, distributions={'classifier': CategoricalDistribution(choices=('SVC', 'RandomForest')), 'svc_c': LogUniformDistribution(high=10000000000.0, low=1e-10)}, user_attrs={}, system_attrs={}, intermediate_values={}, trial_id=33, state=TrialState.COMPLETE, value=None)\n"
     ]
    }
   ],
   "source": [
    "print(study.best_trial)"
   ]
  },
  {
   "cell_type": "code",
   "execution_count": null,
   "id": "686d195c",
   "metadata": {},
   "outputs": [],
   "source": []
  }
 ],
 "metadata": {
  "kernelspec": {
   "display_name": "Python 3",
   "language": "python",
   "name": "python3"
  },
  "language_info": {
   "codemirror_mode": {
    "name": "ipython",
    "version": 3
   },
   "file_extension": ".py",
   "mimetype": "text/x-python",
   "name": "python",
   "nbconvert_exporter": "python",
   "pygments_lexer": "ipython3",
   "version": "3.6.9"
  }
 },
 "nbformat": 4,
 "nbformat_minor": 5
}
